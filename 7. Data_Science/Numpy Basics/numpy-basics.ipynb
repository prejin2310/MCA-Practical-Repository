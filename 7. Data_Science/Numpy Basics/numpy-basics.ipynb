{
 "cells": [
  {
   "cell_type": "code",
   "execution_count": 1,
   "id": "702c680b",
   "metadata": {},
   "outputs": [
    {
     "name": "stdout",
     "output_type": "stream",
     "text": [
      "[2 3 4 5 6]\n"
     ]
    }
   ],
   "source": [
    "import numpy as np\n",
    "l1 =[2,3,4,5,6]\n",
    "arr1 = np.array(l1)\n",
    "print(arr1)"
   ]
  },
  {
   "cell_type": "code",
   "execution_count": 4,
   "id": "a6cdbbd2",
   "metadata": {},
   "outputs": [
    {
     "name": "stdout",
     "output_type": "stream",
     "text": [
      "[[10 11 12 13]\n",
      " [21 22 23 24]]\n"
     ]
    }
   ],
   "source": [
    "import numpy as np\n",
    "A = np.array([[10,11,12,13],[21,22,23,24]])\n",
    "print(A)"
   ]
  },
  {
   "cell_type": "code",
   "execution_count": 6,
   "id": "40db3398",
   "metadata": {},
   "outputs": [
    {
     "name": "stdout",
     "output_type": "stream",
     "text": [
      "[[ 538976288  811278368]\n",
      " [ -23966416        103]\n",
      " [ 538976288 1935764768]]\n"
     ]
    }
   ],
   "source": [
    "import numpy as np\n",
    "arr=np.empty([3,2],dtype=int)\n",
    "print(arr)"
   ]
  },
  {
   "cell_type": "markdown",
   "id": "d6ec09ce",
   "metadata": {},
   "source": []
  },
  {
   "cell_type": "code",
   "execution_count": 7,
   "id": "a9c2a6b0",
   "metadata": {},
   "outputs": [
    {
     "name": "stdout",
     "output_type": "stream",
     "text": [
      "[0. 0. 0. 0. 0.]\n"
     ]
    }
   ],
   "source": [
    "import numpy as np\n",
    "arr1 = np.zeros(5)\n",
    "print(arr1)"
   ]
  },
  {
   "cell_type": "code",
   "execution_count": 8,
   "id": "bd53ccc5",
   "metadata": {},
   "outputs": [
    {
     "name": "stdout",
     "output_type": "stream",
     "text": [
      "[1. 1. 1. 1. 1.]\n"
     ]
    }
   ],
   "source": [
    "import numpy as np\n",
    "arr1 = np.ones(5)\n",
    "print(arr1)"
   ]
  },
  {
   "cell_type": "code",
   "execution_count": 9,
   "id": "fc9e8eed",
   "metadata": {},
   "outputs": [
    {
     "name": "stdout",
     "output_type": "stream",
     "text": [
      "[2 3 4 5 6]\n"
     ]
    }
   ],
   "source": [
    "import numpy as np\n",
    "arr1=np.arange(2,7)\n",
    "print(arr1)\n"
   ]
  },
  {
   "cell_type": "code",
   "execution_count": 10,
   "id": "d932ad66",
   "metadata": {},
   "outputs": [
    {
     "name": "stdout",
     "output_type": "stream",
     "text": [
      "[[1 2 3]\n",
      " [4 5 6]]\n"
     ]
    }
   ],
   "source": [
    "import numpy as np\n",
    "A=np.array([1,2,3,4,5,6])\n",
    "B=np.reshape(A,(2,3))\n",
    "print(B)"
   ]
  },
  {
   "cell_type": "code",
   "execution_count": 11,
   "id": "c3521d0c",
   "metadata": {},
   "outputs": [
    {
     "name": "stdout",
     "output_type": "stream",
     "text": [
      "[5 2 7 3 9]\n",
      "[2 7]\n",
      "[5 2]\n",
      "[3 9]\n"
     ]
    }
   ],
   "source": [
    "import numpy as np\n",
    "data = np.array([5,2,7,3,9])\n",
    "print(data[:])\n",
    "print(data[1:3])\n",
    "print(data[:2])\n",
    "print(data[-2:])"
   ]
  },
  {
   "cell_type": "code",
   "execution_count": 16,
   "id": "5d19bf40",
   "metadata": {},
   "outputs": [
    {
     "name": "stdout",
     "output_type": "stream",
     "text": [
      "b [[5 6 7 8]]\n",
      "b [[6]]\n",
      "b [[1 2]\n",
      " [5 6]]\n",
      "b [[ 7  8]\n",
      " [11 12]]\n"
     ]
    }
   ],
   "source": [
    "import numpy as np\n",
    "a=np.array([[1,2,3,4],[5,6,7,8],[9,10,11,12]])\n",
    "b=a[1:2,0:4]\n",
    "print('b',b)\n",
    "b=a[1:2,1:2]\n",
    "print('b',b)\n",
    "b=a[:2,0:2]\n",
    "print('b',b)\n",
    "b=a[1:3,2:4]\n",
    "print('b',b)"
   ]
  },
  {
   "cell_type": "code",
   "execution_count": 22,
   "id": "c6e91db3",
   "metadata": {},
   "outputs": [
    {
     "name": "stdout",
     "output_type": "stream",
     "text": [
      "1st [[2 3]\n",
      " [6 7]]\n",
      "2nd [[20  3]\n",
      " [ 6  7]]\n",
      "3rd [[ 1 20  3  4]\n",
      " [ 5  6  7  8]\n",
      " [ 9 10 11 12]]\n"
     ]
    }
   ],
   "source": [
    "import numpy as np\n",
    "a=np.array([[1,2,3,4],[5,6,7,8],[9,10,11,12]])\n",
    "b=a[0:2,1:3]\n",
    "print('1st',b)\n",
    "b[0,0]=20\n",
    "print('2nd',b)\n",
    "print('3rd',a)"
   ]
  },
  {
   "cell_type": "code",
   "execution_count": 25,
   "id": "81468e21",
   "metadata": {},
   "outputs": [
    {
     "name": "stdout",
     "output_type": "stream",
     "text": [
      "[[ 2  3  4]\n",
      " [ 5  6  7]\n",
      " [ 8  9 10]]\n"
     ]
    }
   ],
   "source": [
    "import numpy as np\n",
    "x=np.arange(2,11).reshape(3,3)\n",
    "print(x)"
   ]
  },
  {
   "cell_type": "code",
   "execution_count": 33,
   "id": "c6222e54",
   "metadata": {},
   "outputs": [
    {
     "name": "stdout",
     "output_type": "stream",
     "text": [
      "Array a:  [[7 5 9]\n",
      " [2 6 8]]\n",
      "Array b:  [10 10 10]\n",
      "Addition:  [[17 15 19]\n",
      " [12 16 18]]\n",
      "Multiplication : [[70 50 90]\n",
      " [20 60 80]]\n",
      "Divition : [[0.7 0.5 0.9]\n",
      " [0.2 0.6 0.8]]\n"
     ]
    }
   ],
   "source": [
    "import numpy as np\n",
    "a=np.array([[7,5,9],[2,6,8]])\n",
    "print('Array a: ',a)\n",
    "b=np.array([10,10,10])\n",
    "print('Array b: ',b)\n",
    "c=np.add(a,b)\n",
    "print('Addition: ',c)\n",
    "c=np.multiply(a,b)\n",
    "print('Multiplication :',c)\n",
    "c=np.divide(a,b)\n",
    "print('Divition :',c)"
   ]
  },
  {
   "cell_type": "code",
   "execution_count": 35,
   "id": "2bc865ca",
   "metadata": {},
   "outputs": [
    {
     "name": "stdout",
     "output_type": "stream",
     "text": [
      "[[ True  True  True]\n",
      " [ True  True  True]\n",
      " [ True  True  True]]\n"
     ]
    }
   ],
   "source": [
    "import numpy as np\n",
    "arr1=np.ones((3,3),dtype=bool)\n",
    "print(arr1)"
   ]
  },
  {
   "cell_type": "code",
   "execution_count": 37,
   "id": "98fcceb7",
   "metadata": {},
   "outputs": [
    {
     "name": "stdout",
     "output_type": "stream",
     "text": [
      "[[1. 1. 1. 1. 1. 1. 1. 1. 1. 1.]\n",
      " [1. 0. 0. 0. 0. 0. 0. 0. 0. 1.]\n",
      " [1. 0. 0. 0. 0. 0. 0. 0. 0. 1.]\n",
      " [1. 0. 0. 0. 0. 0. 0. 0. 0. 1.]\n",
      " [1. 0. 0. 0. 0. 0. 0. 0. 0. 1.]\n",
      " [1. 0. 0. 0. 0. 0. 0. 0. 0. 1.]\n",
      " [1. 0. 0. 0. 0. 0. 0. 0. 0. 1.]\n",
      " [1. 0. 0. 0. 0. 0. 0. 0. 0. 1.]\n",
      " [1. 0. 0. 0. 0. 0. 0. 0. 0. 1.]\n",
      " [1. 1. 1. 1. 1. 1. 1. 1. 1. 1.]]\n"
     ]
    }
   ],
   "source": [
    "import numpy as np\n",
    "x=np.ones((10,10))\n",
    "x[1:-1,1:-1]=0\n",
    "print(x)"
   ]
  },
  {
   "cell_type": "code",
   "execution_count": 39,
   "id": "f30c5453",
   "metadata": {},
   "outputs": [
    {
     "name": "stdout",
     "output_type": "stream",
     "text": [
      "Array a:  [[7 5 9]\n",
      " [2 6 8]]\n",
      "Array b:  [10 10 10]\n",
      "Addition:  [[17 15 19]\n",
      " [12 16 18]]\n"
     ]
    }
   ],
   "source": [
    "import numpy as np\n",
    "a=np.array([[7,5,9],[2,6,8]])\n",
    "print('Array a: ',a)\n",
    "b=np.array([10,10,10])\n",
    "print('Array b: ',b)\n",
    "c=np.add(a,b)\n",
    "print('Addition: ',c)\n"
   ]
  },
  {
   "cell_type": "code",
   "execution_count": 53,
   "id": "db17d0cb",
   "metadata": {},
   "outputs": [
    {
     "name": "stdout",
     "output_type": "stream",
     "text": [
      "[[5 4]\n",
      " [5 9]]\n",
      "[[7 5 7 5]\n",
      " [1 6 1 6]]\n"
     ]
    }
   ],
   "source": [
    "import numpy as np\n",
    "A=np.array([[7,5],[1,6]])\n",
    "B=np.array([[5,4],[5,9]])\n",
    "print(np.concatenate([B],axis=0))\n",
    "print(np.concatenate([A,A],axis=1))\n"
   ]
  },
  {
   "cell_type": "code",
   "execution_count": 55,
   "id": "443a8e91",
   "metadata": {},
   "outputs": [
    {
     "name": "stdout",
     "output_type": "stream",
     "text": [
      "10\n",
      "1\n",
      "4\n",
      "2.5\n"
     ]
    }
   ],
   "source": [
    "import numpy as np\n",
    "x=np.array([1,2,3,4])\n",
    "print(x.sum())\n",
    "print(x.min())\n",
    "print(x.max())\n",
    "print(np.median(x))"
   ]
  },
  {
   "cell_type": "code",
   "execution_count": 58,
   "id": "5568507a",
   "metadata": {},
   "outputs": [
    {
     "name": "stdout",
     "output_type": "stream",
     "text": [
      "[[1 2]\n",
      " [2 4]\n",
      " [7 8]]\n",
      "[[1 2]\n",
      " [2 4]]\n"
     ]
    }
   ],
   "source": [
    "import numpy as np\n",
    "a=np.array([[1,2],[2,4]])\n",
    "b=np.array([[7,8]])\n",
    "c=np.concatenate((a,b),axis=0)\n",
    "print(c)\n",
    "print(a.T)"
   ]
  },
  {
   "cell_type": "code",
   "execution_count": null,
   "id": "f1f47916",
   "metadata": {},
   "outputs": [],
   "source": []
  }
 ],
 "metadata": {
  "kernelspec": {
   "display_name": "Python 3",
   "language": "python",
   "name": "python3"
  },
  "language_info": {
   "codemirror_mode": {
    "name": "ipython",
    "version": 3
   },
   "file_extension": ".py",
   "mimetype": "text/x-python",
   "name": "python",
   "nbconvert_exporter": "python",
   "pygments_lexer": "ipython3",
   "version": "3.8.8"
  }
 },
 "nbformat": 4,
 "nbformat_minor": 5
}
