{
 "cells": [
  {
   "cell_type": "code",
   "execution_count": 8,
   "metadata": {},
   "outputs": [
    {
     "name": "stdout",
     "output_type": "stream",
     "text": [
      "[[1 2 4]\n",
      " [2 4 3]\n",
      " [0 1 1]]\n",
      "[[ 2 -1]\n",
      " [ 3  2]]\n",
      "[[ 1 -1  0]\n",
      " [ 3  1  2]\n",
      " [ 1  2  5]]\n"
     ]
    }
   ],
   "source": [
    "#creating a matrix\n",
    "import numpy as np\n",
    "A=np.array([[1,2,4],[2,4,3],[0,1,1]])\n",
    "B=np.array([[2,-1],[3,2]])\n",
    "C=np.array([[1,-1,0],[3,1,2],[1,2,5]])\n",
    "print(A)\n",
    "print(B)\n",
    "print(C)"
   ]
  },
  {
   "cell_type": "code",
   "execution_count": 7,
   "metadata": {},
   "outputs": [
    {
     "name": "stdout",
     "output_type": "stream",
     "text": [
      "List:  [1 2 3 4 5 6 7 8 9]\n",
      "After Reshape(3,3)\n"
     ]
    },
    {
     "data": {
      "text/plain": [
       "array([[1, 2, 3],\n",
       "       [4, 5, 6],\n",
       "       [7, 8, 9]])"
      ]
     },
     "execution_count": 7,
     "metadata": {},
     "output_type": "execute_result"
    }
   ],
   "source": [
    "#Generate a matrix\n",
    "A1=np.arange(1,10) #prints 1to9 values as list\n",
    "print('List: ',A1)\n",
    "print('After Reshape(3,3)')\n",
    "A1.reshape(3,3) #reshape(row,colm) it will create MxN Matrix"
   ]
  },
  {
   "cell_type": "code",
   "execution_count": 21,
   "metadata": {},
   "outputs": [
    {
     "name": "stdout",
     "output_type": "stream",
     "text": [
      "[[3 4 2 8]\n",
      " [1 5 4 7]]\n",
      "[[3 1]\n",
      " [4 5]\n",
      " [2 4]\n",
      " [8 7]]\n"
     ]
    }
   ],
   "source": [
    "#Transpose the Matrix\n",
    "D=np.array([[3,4,2,8],[1,5,4,7]])\n",
    "print(D)\n",
    "# D.transpose() or\n",
    "print(D.T)"
   ]
  },
  {
   "cell_type": "code",
   "execution_count": 19,
   "metadata": {},
   "outputs": [
    {
     "name": "stdout",
     "output_type": "stream",
     "text": [
      "[[1 2 3]\n",
      " [4 5 6]\n",
      " [7 8 9]]\n",
      "[[ 5  6  7]\n",
      " [ 8  9 10]\n",
      " [11 12 13]]\n",
      "[[  5  12  21]\n",
      " [ 32  45  60]\n",
      " [ 77  96 117]]\n"
     ]
    }
   ],
   "source": [
    "#Multipy two Matrix\n",
    "A1=np.arange(1,10).reshape(3,3)\n",
    "A2=np.arange(5,14).reshape(3,3)\n",
    "print(A1)\n",
    "print(A2)\n",
    "A3= A1*A2\n",
    "print(A3)"
   ]
  },
  {
   "cell_type": "code",
   "execution_count": null,
   "metadata": {},
   "outputs": [],
   "source": []
  }
 ],
 "metadata": {
  "kernelspec": {
   "display_name": "Python 3",
   "language": "python",
   "name": "python3"
  },
  "language_info": {
   "codemirror_mode": {
    "name": "ipython",
    "version": 3
   },
   "file_extension": ".py",
   "mimetype": "text/x-python",
   "name": "python",
   "nbconvert_exporter": "python",
   "pygments_lexer": "ipython3",
   "version": "3.7.6"
  }
 },
 "nbformat": 4,
 "nbformat_minor": 4
}
