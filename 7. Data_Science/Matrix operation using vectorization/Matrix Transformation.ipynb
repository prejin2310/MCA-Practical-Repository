{
 "cells": [
  {
   "cell_type": "code",
   "execution_count": null,
   "id": "f573431a",
   "metadata": {},
   "outputs": [],
   "source": [
    "#Matrix Transformation"
   ]
  },
  {
   "cell_type": "code",
   "execution_count": 4,
   "id": "c5428d8f",
   "metadata": {},
   "outputs": [],
   "source": [
    "import numpy as np"
   ]
  },
  {
   "cell_type": "code",
   "execution_count": 5,
   "id": "72d9f610",
   "metadata": {},
   "outputs": [
    {
     "name": "stdout",
     "output_type": "stream",
     "text": [
      "Original X: [[1 2]\n",
      " [3 4]]\n",
      "Transpose of x: [[1 3]\n",
      " [2 4]]\n"
     ]
    }
   ],
   "source": [
    "x = np.array([[1,2], [3,4]])\n",
    "print(\"Original X: %s\" %x)\n",
    "print(\"Transpose of x: %s\" %x.T)"
   ]
  },
  {
   "cell_type": "code",
   "execution_count": null,
   "id": "7e97f70f",
   "metadata": {},
   "outputs": [],
   "source": []
  }
 ],
 "metadata": {
  "kernelspec": {
   "display_name": "Python 3",
   "language": "python",
   "name": "python3"
  },
  "language_info": {
   "codemirror_mode": {
    "name": "ipython",
    "version": 3
   },
   "file_extension": ".py",
   "mimetype": "text/x-python",
   "name": "python",
   "nbconvert_exporter": "python",
   "pygments_lexer": "ipython3",
   "version": "3.8.8"
  }
 },
 "nbformat": 4,
 "nbformat_minor": 5
}
