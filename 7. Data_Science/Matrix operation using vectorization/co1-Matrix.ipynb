{
 "cells": [
  {
   "cell_type": "code",
   "execution_count": null,
   "id": "f50875cd",
   "metadata": {},
   "outputs": [],
   "source": [
    "#program to appl matrix operations(Using vectorisation) and transformation using python and SVD using python\n",
    "#%s- used to perform concatenation of strings together"
   ]
  },
  {
   "cell_type": "code",
   "execution_count": 2,
   "id": "8a299edc",
   "metadata": {},
   "outputs": [],
   "source": [
    "import numpy as np"
   ]
  },
  {
   "cell_type": "code",
   "execution_count": 3,
   "id": "38bc2c63",
   "metadata": {},
   "outputs": [
    {
     "name": "stdout",
     "output_type": "stream",
     "text": [
      "type: <class 'numpy.ndarray'>\n",
      "shape: 3\n",
      "1 2 3\n",
      "[5 2 3]\n"
     ]
    }
   ],
   "source": [
    "a=np.array([1,2,3])\n",
    "print(\"type: %s\" %type(a))\n",
    "print(\"shape: %s\" %a.shape)\n",
    "print(a[0],a[1],a[2])\n",
    "a[0]=5\n",
    "print(a)"
   ]
  },
  {
   "cell_type": "code",
   "execution_count": 6,
   "id": "9426524a",
   "metadata": {},
   "outputs": [
    {
     "name": "stdout",
     "output_type": "stream",
     "text": [
      "shape of b: (2, 3)\n",
      "1 2 4\n"
     ]
    }
   ],
   "source": [
    "b=np.array([[1,2,3],[4,5,6]])\n",
    "print(\"shape of b:\",b.shape) #2 dimentions and 3 elements each\n",
    "print(b[0,0],b[0,1],b[1,0])"
   ]
  },
  {
   "cell_type": "code",
   "execution_count": 7,
   "id": "1f97a32e",
   "metadata": {},
   "outputs": [
    {
     "name": "stdout",
     "output_type": "stream",
     "text": [
      "All zeros matrix: [[0. 0.]\n",
      " [0. 0.]]\n"
     ]
    }
   ],
   "source": [
    "a=np.zeros((2,2)) #zeros() function is used to get a new array of given shape and type, filled with zeros\n",
    "print(\"All zeros matrix: %s\" %a)"
   ]
  },
  {
   "cell_type": "code",
   "execution_count": 8,
   "id": "33121b28",
   "metadata": {},
   "outputs": [
    {
     "name": "stdout",
     "output_type": "stream",
     "text": [
      "All ones matrix: [[0. 0.]\n",
      " [0. 0.]]\n"
     ]
    }
   ],
   "source": [
    "b=np.ones((1,2)) #ones() function is used to get a new array of given shape and type, filled with ones\n",
    "print(\"All ones matrix: %s\" %a)"
   ]
  },
  {
   "cell_type": "code",
   "execution_count": 10,
   "id": "466fa227",
   "metadata": {},
   "outputs": [
    {
     "name": "stdout",
     "output_type": "stream",
     "text": [
      "identify matrix: [[1. 0.]\n",
      " [0. 1.]]\n"
     ]
    }
   ],
   "source": [
    "d=np.eye(2) #eye() function is used to create a 2-D array with ones on the diagonal and zeros elsewhere.\n",
    "print(\"identify matrix: %s\" %d)"
   ]
  },
  {
   "cell_type": "code",
   "execution_count": 11,
   "id": "b64e5f46",
   "metadata": {},
   "outputs": [
    {
     "name": "stdout",
     "output_type": "stream",
     "text": [
      "Random matrix: [[0.59990895 0.32222387]\n",
      " [0.88236674 0.42464795]]\n"
     ]
    }
   ],
   "source": [
    "e=np.random.random((2,2)) #Return random floats \n",
    "print(\"Random matrix: %s\" %e)\n"
   ]
  },
  {
   "cell_type": "code",
   "execution_count": 17,
   "id": "41960bfe",
   "metadata": {},
   "outputs": [
    {
     "name": "stdout",
     "output_type": "stream",
     "text": [
      "Vectorized sum example\n",
      "x: [[1 2]\n",
      " [3 4]]\n",
      "Sum : 10\n",
      "sum axis=0 [4 6]\n",
      "sum axis=1 [3 7]\n"
     ]
    }
   ],
   "source": [
    "print(\"Vectorized sum example\")\n",
    "x=np.array([[1,2],[3,4]])\n",
    "print(\"x: %s\" %x)\n",
    "print(\"Sum : %s\"%np.sum(x))\n",
    "print(\"sum axis=0 %s\" %np.sum(x, axis=0))\n",
    "print(\"sum axis=1 %s\" %np.sum(x, axis=1))"
   ]
  },
  {
   "cell_type": "code",
   "execution_count": 19,
   "id": "1d2fe76d",
   "metadata": {},
   "outputs": [
    {
     "name": "stdout",
     "output_type": "stream",
     "text": [
      "Dot product :-1724114088\n"
     ]
    }
   ],
   "source": [
    "#Matrix dot product\n",
    "a=np.arange(10000)\n",
    "b=np.arange(10000)\n",
    "dp=np.dot(a,b)\n",
    "print(\"Dot product :%s\" %dp)"
   ]
  },
  {
   "cell_type": "code",
   "execution_count": 20,
   "id": "7700bf9a",
   "metadata": {},
   "outputs": [
    {
     "name": "stdout",
     "output_type": "stream",
     "text": [
      "Outer Product : [[       0        0        0 ...        0        0        0]\n",
      " [       0        1        2 ...     9997     9998     9999]\n",
      " [       0        2        4 ...    19994    19996    19998]\n",
      " ...\n",
      " [       0     9997    19994 ... 99940009 99950006 99960003]\n",
      " [       0     9998    19996 ... 99950006 99960004 99970002]\n",
      " [       0     9999    19998 ... 99960003 99970002 99980001]]\n"
     ]
    }
   ],
   "source": [
    "#outer product\n",
    "op=np.outer(a,b)\n",
    "print(\"Outer Product : %s\" %op)"
   ]
  },
  {
   "cell_type": "code",
   "execution_count": null,
   "id": "9805b3e8",
   "metadata": {},
   "outputs": [],
   "source": []
  }
 ],
 "metadata": {
  "kernelspec": {
   "display_name": "Python 3",
   "language": "python",
   "name": "python3"
  },
  "language_info": {
   "codemirror_mode": {
    "name": "ipython",
    "version": 3
   },
   "file_extension": ".py",
   "mimetype": "text/x-python",
   "name": "python",
   "nbconvert_exporter": "python",
   "pygments_lexer": "ipython3",
   "version": "3.8.8"
  }
 },
 "nbformat": 4,
 "nbformat_minor": 5
}
